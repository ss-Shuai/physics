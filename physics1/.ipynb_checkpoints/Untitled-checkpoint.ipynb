{
 "cells": [
  {
   "cell_type": "code",
   "execution_count": 8,
   "id": "4a2230e9-2ad3-4b22-a0bc-1fe7d94d6474",
   "metadata": {},
   "outputs": [],
   "source": [
    "import numpy as np"
   ]
  },
  {
   "cell_type": "code",
   "execution_count": 13,
   "id": "fb56c11f-21e7-442a-a389-d3d5931f9515",
   "metadata": {},
   "outputs": [],
   "source": [
    "A = np.array([[[1,1],[2,2]],[[3,3],[4,4]]])"
   ]
  },
  {
   "cell_type": "code",
   "execution_count": 14,
   "id": "f0d2a0d3-6cfb-4514-bad4-e7f0d7c375e4",
   "metadata": {},
   "outputs": [
    {
     "data": {
      "text/plain": [
       "(2, 2, 2)"
      ]
     },
     "execution_count": 14,
     "metadata": {},
     "output_type": "execute_result"
    }
   ],
   "source": [
    "A.shape"
   ]
  },
  {
   "cell_type": "code",
   "execution_count": 20,
   "id": "3c7dd359-6dc5-40b7-a7f0-b38b766f76d5",
   "metadata": {},
   "outputs": [],
   "source": [
    "norms = (np.sum(A**2, axis=0))"
   ]
  },
  {
   "cell_type": "code",
   "execution_count": 21,
   "id": "831b7ca9-4360-4202-89f0-635d376a5a60",
   "metadata": {},
   "outputs": [
    {
     "data": {
      "text/plain": [
       "array([[10, 10],\n",
       "       [20, 20]])"
      ]
     },
     "execution_count": 21,
     "metadata": {},
     "output_type": "execute_result"
    }
   ],
   "source": [
    "norms"
   ]
  },
  {
   "cell_type": "code",
   "execution_count": 22,
   "id": "e54ef957-129e-4ada-9ad7-8ebd796fced5",
   "metadata": {},
   "outputs": [],
   "source": [
    "B = np.array([2,3,4,1])"
   ]
  },
  {
   "cell_type": "code",
   "execution_count": 23,
   "id": "d6cb5aed-0fc8-42c9-a522-d68298019aa8",
   "metadata": {},
   "outputs": [],
   "source": [
    "x = np.array([1,3])"
   ]
  },
  {
   "cell_type": "code",
   "execution_count": 24,
   "id": "2a76b1e9-ea53-44f2-921b-f299802898c3",
   "metadata": {},
   "outputs": [
    {
     "data": {
      "text/plain": [
       "array([3, 1])"
      ]
     },
     "execution_count": 24,
     "metadata": {},
     "output_type": "execute_result"
    }
   ],
   "source": [
    "B[x]"
   ]
  },
  {
   "cell_type": "code",
   "execution_count": 28,
   "id": "0c5d81e2-99b8-4457-b533-3a09b0d62b9d",
   "metadata": {},
   "outputs": [
    {
     "name": "stdout",
     "output_type": "stream",
     "text": [
      "Sub-matrix 1:\n",
      "[[[[0.89048316 0.58599377 0.88135603]]\n",
      "\n",
      "  [[0.290223   0.07821745 0.84300383]]\n",
      "\n",
      "  [[0.7503626  0.16881874 0.30762833]]]\n",
      "\n",
      "\n",
      " [[[0.90280848 0.54820321 0.17256944]]\n",
      "\n",
      "  [[0.46312268 0.84662876 0.54767231]]\n",
      "\n",
      "  [[0.29792325 0.97813557 0.50969279]]]\n",
      "\n",
      "\n",
      " [[[0.71492417 0.50370266 0.44643734]]\n",
      "\n",
      "  [[0.06506641 0.06820647 0.77661547]]\n",
      "\n",
      "  [[0.02131647 0.92607118 0.61377774]]]]\n",
      "\n",
      "Sub-matrix 2:\n",
      "[[[[0.34187833 0.87840751 0.04752361]]\n",
      "\n",
      "  [[0.96948123 0.63399146 0.94924933]]\n",
      "\n",
      "  [[0.16525399 0.76626944 0.88832507]]]\n",
      "\n",
      "\n",
      " [[[0.80754445 0.62744442 0.91044332]]\n",
      "\n",
      "  [[0.97526631 0.06762802 0.3974583 ]]\n",
      "\n",
      "  [[0.5726193  0.29171954 0.49644044]]]\n",
      "\n",
      "\n",
      " [[[0.80432334 0.23360902 0.16551692]]\n",
      "\n",
      "  [[0.1871129  0.87851674 0.36906713]]\n",
      "\n",
      "  [[0.89462285 0.23391845 0.00744224]]]]\n",
      "\n",
      "Sub-matrix 3:\n",
      "[[[[0.49868471 0.64785476 0.64883449]]\n",
      "\n",
      "  [[0.15137257 0.48010794 0.59083058]]\n",
      "\n",
      "  [[0.35955656 0.69762257 0.66426873]]]\n",
      "\n",
      "\n",
      " [[[0.02057037 0.3881412  0.90522583]]\n",
      "\n",
      "  [[0.37602439 0.27547436 0.49664381]]\n",
      "\n",
      "  [[0.39563061 0.17865538 0.67479251]]]\n",
      "\n",
      "\n",
      " [[[0.86017669 0.17059292 0.69399468]]\n",
      "\n",
      "  [[0.21755338 0.30261439 0.87460653]]\n",
      "\n",
      "  [[0.11906052 0.53870397 0.35498794]]]]\n",
      "\n",
      "Sub-matrix 4:\n"
     ]
    },
    {
     "ename": "IndexError",
     "evalue": "list index out of range",
     "output_type": "error",
     "traceback": [
      "\u001b[1;31m---------------------------------------------------------------------------\u001b[0m",
      "\u001b[1;31mIndexError\u001b[0m                                Traceback (most recent call last)",
      "Cell \u001b[1;32mIn[28], line 17\u001b[0m\n\u001b[0;32m     15\u001b[0m \u001b[38;5;28mprint\u001b[39m(sub_matrices[\u001b[38;5;241m2\u001b[39m])\n\u001b[0;32m     16\u001b[0m \u001b[38;5;28mprint\u001b[39m(\u001b[38;5;124m\"\u001b[39m\u001b[38;5;130;01m\\n\u001b[39;00m\u001b[38;5;124mSub-matrix 4:\u001b[39m\u001b[38;5;124m\"\u001b[39m)\n\u001b[1;32m---> 17\u001b[0m \u001b[38;5;28mprint\u001b[39m(sub_matrices[\u001b[38;5;241m3\u001b[39m])\n\u001b[0;32m     19\u001b[0m \u001b[38;5;66;03m# 使用 np.concatenate 沿第三个维度合并第一个和第三个子矩阵\u001b[39;00m\n\u001b[0;32m     20\u001b[0m merged_matrix \u001b[38;5;241m=\u001b[39m np\u001b[38;5;241m.\u001b[39mconcatenate([sub_matrices[\u001b[38;5;241m0\u001b[39m], sub_matrices[\u001b[38;5;241m2\u001b[39m]], axis\u001b[38;5;241m=\u001b[39m\u001b[38;5;241m2\u001b[39m)\n",
      "\u001b[1;31mIndexError\u001b[0m: list index out of range"
     ]
    }
   ],
   "source": [
    "import numpy as np\n",
    "\n",
    "# 创建一个示例高维矩阵\n",
    "matrix = np.random.random((3, 3, 3, 3))\n",
    "\n",
    "# 使用 np.split 将高维矩阵分割成四个子矩阵\n",
    "sub_matrices = np.split(matrix, [1, 2], axis=2)\n",
    "\n",
    "# 打印分割后的四个子矩阵\n",
    "print(\"Sub-matrix 1:\")\n",
    "print(sub_matrices[0])\n",
    "print(\"\\nSub-matrix 2:\")\n",
    "print(sub_matrices[1])\n",
    "print(\"\\nSub-matrix 3:\")\n",
    "print(sub_matrices[2])\n",
    "print(\"\\nSub-matrix 4:\")\n",
    "print(sub_matrices[3])\n",
    "\n",
    "# 使用 np.concatenate 沿第三个维度合并第一个和第三个子矩阵\n",
    "merged_matrix = np.concatenate([sub_matrices[0], sub_matrices[2]], axis=2)\n",
    "\n",
    "# 打印合并后的矩阵\n",
    "print(\"\\nMerged Matrix:\")\n",
    "print(merged_matrix)\n"
   ]
  },
  {
   "cell_type": "code",
   "execution_count": null,
   "id": "7a510e0e-37d9-479c-a236-207e9fdc0c3b",
   "metadata": {},
   "outputs": [],
   "source": []
  }
 ],
 "metadata": {
  "kernelspec": {
   "display_name": "Python 3 (ipykernel)",
   "language": "python",
   "name": "python3"
  },
  "language_info": {
   "codemirror_mode": {
    "name": "ipython",
    "version": 3
   },
   "file_extension": ".py",
   "mimetype": "text/x-python",
   "name": "python",
   "nbconvert_exporter": "python",
   "pygments_lexer": "ipython3",
   "version": "3.11.5"
  }
 },
 "nbformat": 4,
 "nbformat_minor": 5
}
