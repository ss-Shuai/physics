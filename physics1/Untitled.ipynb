{
 "cells": [
  {
   "cell_type": "code",
   "execution_count": 8,
   "id": "4a2230e9-2ad3-4b22-a0bc-1fe7d94d6474",
   "metadata": {},
   "outputs": [],
   "source": [
    "import numpy as np"
   ]
  },
  {
   "cell_type": "code",
   "execution_count": 13,
   "id": "fb56c11f-21e7-442a-a389-d3d5931f9515",
   "metadata": {},
   "outputs": [],
   "source": [
    "A = np.array([[[1,1],[2,2]],[[3,3],[4,4]]])"
   ]
  },
  {
   "cell_type": "code",
   "execution_count": 14,
   "id": "f0d2a0d3-6cfb-4514-bad4-e7f0d7c375e4",
   "metadata": {},
   "outputs": [
    {
     "data": {
      "text/plain": [
       "(2, 2, 2)"
      ]
     },
     "execution_count": 14,
     "metadata": {},
     "output_type": "execute_result"
    }
   ],
   "source": [
    "A.shape"
   ]
  },
  {
   "cell_type": "code",
   "execution_count": 20,
   "id": "3c7dd359-6dc5-40b7-a7f0-b38b766f76d5",
   "metadata": {},
   "outputs": [],
   "source": [
    "norms = (np.sum(A**2, axis=0))"
   ]
  },
  {
   "cell_type": "code",
   "execution_count": 21,
   "id": "831b7ca9-4360-4202-89f0-635d376a5a60",
   "metadata": {},
   "outputs": [
    {
     "data": {
      "text/plain": [
       "array([[10, 10],\n",
       "       [20, 20]])"
      ]
     },
     "execution_count": 21,
     "metadata": {},
     "output_type": "execute_result"
    }
   ],
   "source": [
    "norms"
   ]
  },
  {
   "cell_type": "code",
   "execution_count": 22,
   "id": "e54ef957-129e-4ada-9ad7-8ebd796fced5",
   "metadata": {},
   "outputs": [],
   "source": [
    "B = np.array([2,3,4,1])"
   ]
  },
  {
   "cell_type": "code",
   "execution_count": 23,
   "id": "d6cb5aed-0fc8-42c9-a522-d68298019aa8",
   "metadata": {},
   "outputs": [],
   "source": [
    "x = np.array([1,3])"
   ]
  },
  {
   "cell_type": "code",
   "execution_count": 24,
   "id": "2a76b1e9-ea53-44f2-921b-f299802898c3",
   "metadata": {},
   "outputs": [
    {
     "data": {
      "text/plain": [
       "array([3, 1])"
      ]
     },
     "execution_count": 24,
     "metadata": {},
     "output_type": "execute_result"
    }
   ],
   "source": [
    "B[x]"
   ]
  },
  {
   "cell_type": "code",
   "execution_count": 30,
   "id": "0c5d81e2-99b8-4457-b533-3a09b0d62b9d",
   "metadata": {},
   "outputs": [
    {
     "name": "stdout",
     "output_type": "stream",
     "text": [
      "Sub-matrix 1:\n",
      "[[[[0.35941    0.44755357 0.43383735]]\n",
      "\n",
      "  [[0.61827055 0.9586577  0.68670911]]\n",
      "\n",
      "  [[0.47275328 0.41597088 0.27264588]]]\n",
      "\n",
      "\n",
      " [[[0.55833589 0.05664012 0.05702946]]\n",
      "\n",
      "  [[0.64079092 0.08800735 0.37111389]]\n",
      "\n",
      "  [[0.7070047  0.72516714 0.84603494]]]\n",
      "\n",
      "\n",
      " [[[0.17061374 0.00409474 0.5039891 ]]\n",
      "\n",
      "  [[0.22042426 0.48762619 0.84386812]]\n",
      "\n",
      "  [[0.57898321 0.9643868  0.51701944]]]]\n",
      "\n",
      "Sub-matrix 2:\n",
      "[[[[0.52913079 0.58487936 0.43608955]]\n",
      "\n",
      "  [[0.54411006 0.31299709 0.32709805]]\n",
      "\n",
      "  [[0.70793431 0.24558969 0.86759297]]]\n",
      "\n",
      "\n",
      " [[[0.48011552 0.25196677 0.78021048]]\n",
      "\n",
      "  [[0.18650389 0.45189715 0.83814359]]\n",
      "\n",
      "  [[0.23820742 0.37131878 0.98801291]]]\n",
      "\n",
      "\n",
      " [[[0.34670259 0.90867968 0.56014886]]\n",
      "\n",
      "  [[0.33402956 0.30052189 0.33999418]]\n",
      "\n",
      "  [[0.69783072 0.83158529 0.31997419]]]]\n",
      "\n",
      "Sub-matrix 3:\n",
      "[[[[0.97995791 0.2663374  0.87009236]]\n",
      "\n",
      "  [[0.22404068 0.88978874 0.66464092]]\n",
      "\n",
      "  [[0.3485273  0.3356694  0.92137529]]]\n",
      "\n",
      "\n",
      " [[[0.86999295 0.62181188 0.07873569]]\n",
      "\n",
      "  [[0.25208001 0.45529715 0.34263005]]\n",
      "\n",
      "  [[0.26273658 0.84079839 0.1234802 ]]]\n",
      "\n",
      "\n",
      " [[[0.54612209 0.12360062 0.58120056]]\n",
      "\n",
      "  [[0.03315382 0.58762525 0.03246596]]\n",
      "\n",
      "  [[0.22831944 0.84325339 0.85382828]]]]\n",
      "\n",
      "Sub-matrix 4:\n",
      "[]\n",
      "\n",
      "Merged Matrix:\n",
      "[[[[0.35941    0.44755357 0.43383735]\n",
      "   [0.97995791 0.2663374  0.87009236]]\n",
      "\n",
      "  [[0.61827055 0.9586577  0.68670911]\n",
      "   [0.22404068 0.88978874 0.66464092]]\n",
      "\n",
      "  [[0.47275328 0.41597088 0.27264588]\n",
      "   [0.3485273  0.3356694  0.92137529]]]\n",
      "\n",
      "\n",
      " [[[0.55833589 0.05664012 0.05702946]\n",
      "   [0.86999295 0.62181188 0.07873569]]\n",
      "\n",
      "  [[0.64079092 0.08800735 0.37111389]\n",
      "   [0.25208001 0.45529715 0.34263005]]\n",
      "\n",
      "  [[0.7070047  0.72516714 0.84603494]\n",
      "   [0.26273658 0.84079839 0.1234802 ]]]\n",
      "\n",
      "\n",
      " [[[0.17061374 0.00409474 0.5039891 ]\n",
      "   [0.54612209 0.12360062 0.58120056]]\n",
      "\n",
      "  [[0.22042426 0.48762619 0.84386812]\n",
      "   [0.03315382 0.58762525 0.03246596]]\n",
      "\n",
      "  [[0.57898321 0.9643868  0.51701944]\n",
      "   [0.22831944 0.84325339 0.85382828]]]]\n"
     ]
    }
   ],
   "source": [
    "import numpy as np\n",
    "\n",
    "# 创建一个示例高维矩阵\n",
    "matrix = np.random.random((3, 3, 3, 3))\n",
    "\n",
    "# 使用 np.split 将高维矩阵分割成四个子矩阵\n",
    "sub_matrices = np.split(matrix, [1, 2,3], axis=2)\n",
    "\n",
    "# 打印分割后的四个子矩阵\n",
    "print(\"Sub-matrix 1:\")\n",
    "print(sub_matrices[0])\n",
    "print(\"\\nSub-matrix 2:\")\n",
    "print(sub_matrices[1])\n",
    "print(\"\\nSub-matrix 3:\")\n",
    "print(sub_matrices[2])\n",
    "print(\"\\nSub-matrix 4:\")\n",
    "print(sub_matrices[3])\n",
    "\n",
    "# 使用 np.concatenate 沿第三个维度合并第一个和第三个子矩阵\n",
    "merged_matrix = np.concatenate([sub_matrices[0], sub_matrices[2]], axis=2)\n",
    "\n",
    "# 打印合并后的矩阵\n",
    "print(\"\\nMerged Matrix:\")\n",
    "print(merged_matrix)\n"
   ]
  },
  {
   "cell_type": "code",
   "execution_count": 33,
   "id": "7a510e0e-37d9-479c-a236-207e9fdc0c3b",
   "metadata": {},
   "outputs": [
    {
     "name": "stdout",
     "output_type": "stream",
     "text": [
      "\n",
      "Merged Matrix:\n",
      "[[[[0.35941    0.44755357 0.43383735]\n",
      "   [0.97995791 0.2663374  0.87009236]]\n",
      "\n",
      "  [[0.61827055 0.9586577  0.68670911]\n",
      "   [0.22404068 0.88978874 0.66464092]]\n",
      "\n",
      "  [[0.47275328 0.41597088 0.27264588]\n",
      "   [0.3485273  0.3356694  0.92137529]]]\n",
      "\n",
      "\n",
      " [[[0.55833589 0.05664012 0.05702946]\n",
      "   [0.86999295 0.62181188 0.07873569]]\n",
      "\n",
      "  [[0.64079092 0.08800735 0.37111389]\n",
      "   [0.25208001 0.45529715 0.34263005]]\n",
      "\n",
      "  [[0.7070047  0.72516714 0.84603494]\n",
      "   [0.26273658 0.84079839 0.1234802 ]]]\n",
      "\n",
      "\n",
      " [[[0.17061374 0.00409474 0.5039891 ]\n",
      "   [0.54612209 0.12360062 0.58120056]]\n",
      "\n",
      "  [[0.22042426 0.48762619 0.84386812]\n",
      "   [0.03315382 0.58762525 0.03246596]]\n",
      "\n",
      "  [[0.57898321 0.9643868  0.51701944]\n",
      "   [0.22831944 0.84325339 0.85382828]]]]\n"
     ]
    }
   ],
   "source": [
    "# 使用 np.concatenate 沿第三个维度合并第一个和第三个子矩阵\n",
    "merged_matrix2 = np.concatenate(sub_matrices[:1]+sub_matrices[2:], axis=2)\n",
    "\n",
    "# 打印合并后的矩阵\n",
    "print(\"\\nMerged Matrix:\")\n",
    "print(merged_matrix2)"
   ]
  },
  {
   "cell_type": "code",
   "execution_count": null,
   "id": "5139a2ae-342d-432c-9fd0-fc2ef444d041",
   "metadata": {},
   "outputs": [],
   "source": []
  }
 ],
 "metadata": {
  "kernelspec": {
   "display_name": "Python 3 (ipykernel)",
   "language": "python",
   "name": "python3"
  },
  "language_info": {
   "codemirror_mode": {
    "name": "ipython",
    "version": 3
   },
   "file_extension": ".py",
   "mimetype": "text/x-python",
   "name": "python",
   "nbconvert_exporter": "python",
   "pygments_lexer": "ipython3",
   "version": "3.11.5"
  }
 },
 "nbformat": 4,
 "nbformat_minor": 5
}
